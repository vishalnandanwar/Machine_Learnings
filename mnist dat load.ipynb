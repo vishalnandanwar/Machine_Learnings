{
 "cells": [
  {
   "cell_type": "code",
   "execution_count": 3,
   "metadata": {},
   "outputs": [
    {
     "name": "stdout",
     "output_type": "stream",
     "text": [
      "Cant import trainingSample\n",
      "shape = (600, 28, 28)\n"
     ]
    }
   ],
   "source": [
    "import matplotlib.image as mpimg\n",
    "import os\n",
    "import numpy as np\n",
    "\n",
    "images = []\n",
    "folder = './DataSets/MNIST_ori/archive/trainingSample'\n",
    "for filename in os.listdir(folder):\n",
    "    try:\n",
    "        img = mpimg.imread(os.path.join(folder, filename))\n",
    "        #print(f\"Filename = #{filename}\")\n",
    "        if img is not None:\n",
    "            images.append(img)\n",
    "    except:\n",
    "        print('Cant import ' + filename)\n",
    "images = np.asarray(images)\n",
    "print(f\"shape = {np.shape(images)}\")"
   ]
  },
  {
   "cell_type": "code",
   "execution_count": null,
   "metadata": {},
   "outputs": [],
   "source": []
  }
 ],
 "metadata": {
  "kernelspec": {
   "display_name": "Python 3",
   "language": "python",
   "name": "python3"
  },
  "language_info": {
   "codemirror_mode": {
    "name": "ipython",
    "version": 3
   },
   "file_extension": ".py",
   "mimetype": "text/x-python",
   "name": "python",
   "nbconvert_exporter": "python",
   "pygments_lexer": "ipython3",
   "version": "3.7.6"
  }
 },
 "nbformat": 4,
 "nbformat_minor": 4
}
