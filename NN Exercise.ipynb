{
 "cells": [
  {
   "cell_type": "code",
   "execution_count": 1,
   "metadata": {},
   "outputs": [],
   "source": [
    "import numpy as np\n",
    "import time\n",
    "import matplotlib.pyplot as plt\n",
    "import os\n",
    "import matplotlib.image as mpimg"
   ]
  },
  {
   "cell_type": "code",
   "execution_count": 4,
   "metadata": {},
   "outputs": [
    {
     "name": "stdout",
     "output_type": "stream",
     "text": [
      "cwd = D:\\Workspace\\Extra_Activity\\Machine_Learnings\n",
      "path = D:\\Workspace\\Extra_Activity\\Machine_Learnings//DataSets//MNIST_ori//archive//trainingSet\n",
      ". . . . . . . . . . images =  (42000, 784)\n",
      "image_labels =  (42000,)\n"
     ]
    }
   ],
   "source": [
    "#load data\n",
    "#path = \"./DataSets/MNIST_ori/archive/trainingSet/trainingSet\"\n",
    "print(f\"cwd = {os.getcwd()}\")\n",
    "path = os.getcwd() + \"//DataSets//MNIST_ori//archive//trainingSet\"\n",
    "print(f\"path = {path}\")\n",
    "os.chdir(path)\n",
    "images = []\n",
    "image_labels = []\n",
    "\n",
    "entries = os.listdir(path)\n",
    "\n",
    "for entry in entries:\n",
    "    #print(f\"entry = {entry}\")\n",
    "    print(\". \", end='')\n",
    "    for file in os.listdir(entry):\n",
    "        try:\n",
    "            paths = path + \"/\" + entry\n",
    "            img = mpimg.imread(os.path.join(paths, file))\n",
    "            if img is not None:\n",
    "                images.append(img.flatten())\n",
    "                image_labels.append(entry)\n",
    "        except msg:\n",
    "            print('Cant import ' + file + \" = \" + msg)\n",
    "\n",
    "print(\"images = \", np.shape(images))\n",
    "print(\"image_labels = \", np.shape(image_labels))\n"
   ]
  },
  {
   "cell_type": "code",
   "execution_count": 5,
   "metadata": {},
   "outputs": [
    {
     "name": "stdout",
     "output_type": "stream",
     "text": [
      "image = [  0   0   0   0   0   0   0   0   0   4   2   0   0   4   5   0   0   0\n",
      "   4   2   3   0   2   0   0   0   0   0   0   0   0   0   0   0   0   0\n",
      "   0   3   0  14   0   2   0   0  13  11   3   0   0   4   1   0   0   0\n",
      "   0   0   0   0   0   0   0   0   0   0   9  12   0   2  10   0   7   0\n",
      "   0   0   0   3   1   0   0  11   0   0   0   0   0   0   0   0   0   0\n",
      "   0   0   0   0   9   0   0  26   0  15   0   0   0  12   1   0   0   0\n",
      "   0   0   0   0   0   0   0   0   0   0   0   0   0   4  27   0   8   0\n",
      "   5   0   0   9   0   0   0  19   7   0   0   0   0   0   0   0   0   0\n",
      "   0   0   0   0   0   0   0   0   1   1  12   0   4   5   0  17   0   0\n",
      "   0  12   0   0   0   0   0   0   0   0   0   0   0   0  12   0  25 115\n",
      "  81 227  90 170 123 113 105 144  90  38   0   2   0   0   0   0   0   0\n",
      "   0   0   0   0   0   0   0  26 119 231 255 250 241 255 248 255 244 255\n",
      " 236 203  79   0   0   0   0   0   9   0   0   0   0   0   0   0   5 173\n",
      " 247 240 252 255 255 253 249 254 251 255 255 242 168  28   0   0   0   0\n",
      "   0   0  11   0   0   0   4  11  84 243 241 255 255 235 255 243 241 185\n",
      " 243 253 250 255 255 102   0   0   0   0   0   0   6   0   0   7   0   0\n",
      " 142 255 255 246 239 255 246 218  33   7  73  80 182 245 252 173   0   0\n",
      "   0   0   4   0   0   0   3  10   0  35 229 255 249 245 255 242 102  21\n",
      "   0   0   2   0 107 245 252 255   0   0   0   0   0   0   2   6   0   0\n",
      "  13 139 251 255 248 252 203  47   6   0  14   0  10   0   7 213 247 243\n",
      "   0   0   0   0   1   0   0  11   0   0   1 164 250 242 187  76  41   0\n",
      "   4   0   0   0  11  17   0 207 255 244   0   0   0   0   2   0   0   7\n",
      "   0   3   1 174 255 238 183  13   0  14   0   0   9   5   2   0  53 222\n",
      " 255 255   0   0   0   0   0   6   2   0   0  19  47 251 254 141  15   0\n",
      "   9   0   0  12   4   0   3   0 154 249 244 194   0   0   0   0   0   3\n",
      "   2   9   0  91 226 254 192   2   0  10   0   0   2   0   0  30   0 228\n",
      " 255 247 241  74   0   0   0   0   2   6   1   0  15 103 240 219 105   1\n",
      "   0   0   3   0   2   5  14 141 198 255 255 239 119   5   0   0   0   0\n",
      "   0   0   0  19   1 228 255  72   0   0   2   0   6   0  30  76 187 251\n",
      " 248 248 239 125  21   0   0   0   0   0   6   7   0   6  98 255 236  86\n",
      "  11   4   0  41 123 162 233 255 251 250 255 188  69   1   1   8   0   0\n",
      "   0   0   0   5   8   0 122 255 250 255 241 253 255 255 255 236 255 240\n",
      " 244 245  58   0   8   0  10   3   0   0   0   0   1   2   0   4  97 255\n",
      " 239 243 255 253 246 245 255 255 255 174 133  20   0  16   0  13   0   0\n",
      "   0   0   0   0  16   0   0   7 193 247 255 254 255 226 216 201 180 119\n",
      "  69   0  15   0   0   7   0   0  10   4   0   0   0   0   2   0   6   0\n",
      "  30 130 230 139 221  96   2   0  19   0   0   5   0   8   2   0   8   0\n",
      "   0   2   0   0   0   0   0   0   0   0   0   0   0   0   0   0   0   0\n",
      "   0   0   0   0   0   0   0   0   0   0   0   0   0   0   0   0   0   0\n",
      "   0   0   0   0   0   0   0   0   0   0   0   0   0   0   0   0   0   0\n",
      "   0   0   0   0   0   0   0   0   0   0   0   0   0   0   0   0   0   0\n",
      "   0   0   0   0   0   0   0   0   0   0   0   0   0   0   0   0   0   0\n",
      "   0   0   0   0   0   0   0   0   0   0   0   0   0   0   0   0   0   0\n",
      "   0   0   0   0   0   0   0   0   0   0]\n",
      "image label = 0\n",
      "image label = 2\n"
     ]
    }
   ],
   "source": [
    "print(f\"image = {images[5]}\")\n",
    "print(f\"image label = {image_labels[5]}\")\n",
    "print(f\"image label = {image_labels[10000]}\")"
   ]
  },
  {
   "cell_type": "code",
   "execution_count": null,
   "metadata": {},
   "outputs": [],
   "source": [
    "def show_digit(x):\n",
    "    plt.axis('off')\n",
    "    plt.imshow(x.reshape((28,28)), cmap=plt.cm.gray)\n",
    "    plt.show()\n",
    "    return\n",
    "\n",
    "show_digit(images[5400])"
   ]
  },
  {
   "cell_type": "code",
   "execution_count": null,
   "metadata": {},
   "outputs": [],
   "source": [
    "## Computes squared Euclidean distance between two vectors.\n",
    "def squared_dist(x,y):\n",
    "    return np.sum(np.square(x-y))\n",
    "\n",
    "print(\"Distance = \", squared_dist(images[4],images[5]))\n",
    "\n",
    "## Takes a vector x and returns the index of its nearest neighbor in train_data\n",
    "def find_NN(x):\n",
    "    # Compute distances from x to every row in train_data\n",
    "    distances = [squared_dist(x,images[i,]) for i in range(len(train_labels))]\n",
    "    #print(f\"distances = {len(distances)}\")\n",
    "    # Get the index of the smallest distance\n",
    "    print(\"Distance = \", distances)\n",
    "    return np.argmin(distances)\n",
    "\n",
    "## Takes a vector x and returns the class of its nearest neighbor in train_data\n",
    "def NN_classifier(x):\n",
    "    # Get the index of the the nearest neighbor\n",
    "    index = find_NN(x)\n",
    "    # Return its class\n",
    "    return train_labels[index]\n",
    "\n"
   ]
  },
  {
   "cell_type": "code",
   "execution_count": null,
   "metadata": {},
   "outputs": [],
   "source": []
  }
 ],
 "metadata": {
  "kernelspec": {
   "display_name": "Python 3",
   "language": "python",
   "name": "python3"
  },
  "language_info": {
   "codemirror_mode": {
    "name": "ipython",
    "version": 3
   },
   "file_extension": ".py",
   "mimetype": "text/x-python",
   "name": "python",
   "nbconvert_exporter": "python",
   "pygments_lexer": "ipython3",
   "version": "3.7.6"
  }
 },
 "nbformat": 4,
 "nbformat_minor": 4
}
