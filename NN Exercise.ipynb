{
 "cells": [
  {
   "cell_type": "code",
   "execution_count": 1,
   "metadata": {},
   "outputs": [],
   "source": [
    "import numpy as np\n",
    "import time\n",
    "import matplotlib.pyplot as plt\n",
    "import os\n",
    "import matplotlib.image as mpimg"
   ]
  },
  {
   "cell_type": "code",
   "execution_count": 2,
   "metadata": {},
   "outputs": [
    {
     "name": "stdout",
     "output_type": "stream",
     "text": [
      "cwd = /Users/vishalnandanwar/Workspace/Machine_Learnings\n",
      "path = /Users/vishalnandanwar/Workspace/Machine_Learnings/DataSets/MNIST_ori/archive/trainingSet/trainingSet\n",
      ". . . . . . . . . . images =  (42000, 784)\n",
      "image_labels =  (42000,)\n"
     ]
    }
   ],
   "source": [
    "#load data\n",
    "#path = \"./DataSets/MNIST_ori/archive/trainingSet/trainingSet\"\n",
    "print(f\"cwd = {os.getcwd()}\")\n",
    "path = os.getcwd() + \"/DataSets/MNIST_ori/archive/trainingSet/trainingSet\"\n",
    "print(f\"path = {path}\")\n",
    "os.chdir(path)\n",
    "images = []\n",
    "image_labels = []\n",
    "\n",
    "entries = os.listdir(path)\n",
    "\n",
    "for entry in entries:\n",
    "    #print(f\"entry = {entry}\")\n",
    "    print(\". \", end='')\n",
    "    for file in os.listdir(entry):\n",
    "        try:\n",
    "            paths = path + \"/\" + entry\n",
    "            img = mpimg.imread(os.path.join(paths, file))\n",
    "            if img is not None:\n",
    "                images.append(img.flatten())\n",
    "                image_labels.append(entry)\n",
    "        except msg:\n",
    "            print('Cant import ' + file + \" = \" + msg)\n",
    "\n",
    "print(\"images = \", np.shape(images))\n",
    "print(\"image_labels = \", np.shape(image_labels))\n"
   ]
  },
  {
   "cell_type": "code",
   "execution_count": null,
   "metadata": {},
   "outputs": [],
   "source": [
    "print(f\"image = {images[5]}\")\n",
    "print(f\"image label = {image_labels[5]}\")\n",
    "print(f\"image label = {image_labels[10000]}\")"
   ]
  },
  {
   "cell_type": "code",
   "execution_count": null,
   "metadata": {},
   "outputs": [],
   "source": [
    "def show_digit(x):\n",
    "    plt.axis('off')\n",
    "    plt.imshow(x.reshape((28,28)), cmap=plt.cm.gray)\n",
    "    plt.show()\n",
    "    return\n",
    "\n",
    "show_digit(images[5400])"
   ]
  },
  {
   "cell_type": "code",
   "execution_count": null,
   "metadata": {},
   "outputs": [],
   "source": [
    "## Computes squared Euclidean distance between two vectors.\n",
    "def squared_dist(x,y):\n",
    "    return np.sum(np.square(x-y))\n",
    "\n",
    "print(\"Distance = \", squared_dist(images[4],images[5]))\n",
    "\n",
    "## Takes a vector x and returns the index of its nearest neighbor in train_data\n",
    "def find_NN(x):\n",
    "    # Compute distances from x to every row in train_data\n",
    "    distances = [squared_dist(x,images[i,]) for i in range(len(train_labels))]\n",
    "    #print(f\"distances = {len(distances)}\")\n",
    "    # Get the index of the smallest distance\n",
    "    print(\"Distance = \", distances)\n",
    "    return np.argmin(distances)\n",
    "\n",
    "## Takes a vector x and returns the class of its nearest neighbor in train_data\n",
    "def NN_classifier(x):\n",
    "    # Get the index of the the nearest neighbor\n",
    "    index = find_NN(x)\n",
    "    # Return its class\n",
    "    return train_labels[index]\n",
    "\n"
   ]
  },
  {
   "cell_type": "code",
   "execution_count": null,
   "metadata": {},
   "outputs": [],
   "source": []
  }
 ],
 "metadata": {
  "kernelspec": {
   "display_name": "Python 3",
   "language": "python",
   "name": "python3"
  },
  "language_info": {
   "codemirror_mode": {
    "name": "ipython",
    "version": 3
   },
   "file_extension": ".py",
   "mimetype": "text/x-python",
   "name": "python",
   "nbconvert_exporter": "python",
   "pygments_lexer": "ipython3",
   "version": "3.7.6"
  }
 },
 "nbformat": 4,
 "nbformat_minor": 4
}
